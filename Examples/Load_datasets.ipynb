{
 "cells": [
  {
   "cell_type": "code",
   "execution_count": 1,
   "metadata": {},
   "outputs": [
    {
     "name": "stdout",
     "output_type": "stream",
     "text": [
      "Obtaining MI_prediction from git+https://github.com/UN-GCPDS/python-gcpds.MI_prediction.git#egg=MI_prediction\n",
      "  Updating ./src/mi-prediction clone\n",
      "  Running command git fetch -q --tags\n",
      "  Running command git reset --hard -q 8c3180a37b3921756d0380ef129792414d64fdc4\n",
      "  Preparing metadata (setup.py) ... \u001b[?25ldone\n",
      "\u001b[?25hRequirement already satisfied: moabb in /Users/julian/miniforge3/envs/MI_pred/lib/python3.9/site-packages (from MI_prediction) (0.4.6)\n",
      "Requirement already satisfied: braindecode in /Users/julian/miniforge3/envs/MI_pred/lib/python3.9/site-packages (from MI_prediction) (0.6)\n",
      "Requirement already satisfied: skorch in /Users/julian/miniforge3/envs/MI_pred/lib/python3.9/site-packages (from braindecode->MI_prediction) (0.11.0)\n",
      "Requirement already satisfied: pandas in /Users/julian/miniforge3/envs/MI_pred/lib/python3.9/site-packages (from braindecode->MI_prediction) (1.4.3)\n",
      "Requirement already satisfied: mne in /Users/julian/miniforge3/envs/MI_pred/lib/python3.9/site-packages (from braindecode->MI_prediction) (1.0.3)\n",
      "Requirement already satisfied: scipy in /Users/julian/miniforge3/envs/MI_pred/lib/python3.9/site-packages (from braindecode->MI_prediction) (1.8.1)\n",
      "Requirement already satisfied: h5py in /Users/julian/miniforge3/envs/MI_pred/lib/python3.9/site-packages (from braindecode->MI_prediction) (3.7.0)\n",
      "Requirement already satisfied: numpy in /Users/julian/miniforge3/envs/MI_pred/lib/python3.9/site-packages (from braindecode->MI_prediction) (1.23.1)\n",
      "Requirement already satisfied: matplotlib in /Users/julian/miniforge3/envs/MI_pred/lib/python3.9/site-packages (from braindecode->MI_prediction) (3.5.2)\n",
      "Requirement already satisfied: PyYAML<6.0,>=5.0 in /Users/julian/miniforge3/envs/MI_pred/lib/python3.9/site-packages (from moabb->MI_prediction) (5.4.1)\n",
      "Requirement already satisfied: coverage<6.0,>=5.5 in /Users/julian/miniforge3/envs/MI_pred/lib/python3.9/site-packages (from moabb->MI_prediction) (5.5)\n",
      "Requirement already satisfied: pyriemann>=0.2.6 in /Users/julian/miniforge3/envs/MI_pred/lib/python3.9/site-packages (from moabb->MI_prediction) (0.3)\n",
      "Requirement already satisfied: requests<3.0.0,>=2.15.1 in /Users/julian/miniforge3/envs/MI_pred/lib/python3.9/site-packages (from moabb->MI_prediction) (2.28.1)\n",
      "Requirement already satisfied: tqdm<5.0,>=4.62 in /Users/julian/miniforge3/envs/MI_pred/lib/python3.9/site-packages (from moabb->MI_prediction) (4.64.0)\n",
      "Requirement already satisfied: pooch<2.0,>=1.6 in /Users/julian/miniforge3/envs/MI_pred/lib/python3.9/site-packages (from moabb->MI_prediction) (1.6.0)\n",
      "Requirement already satisfied: scikit-learn<2.0,>=1.0 in /Users/julian/miniforge3/envs/MI_pred/lib/python3.9/site-packages (from moabb->MI_prediction) (1.1.1)\n",
      "Requirement already satisfied: seaborn>=0.9 in /Users/julian/miniforge3/envs/MI_pred/lib/python3.9/site-packages (from moabb->MI_prediction) (0.11.2)\n",
      "Requirement already satisfied: pyparsing>=2.2.1 in /Users/julian/miniforge3/envs/MI_pred/lib/python3.9/site-packages (from matplotlib->braindecode->MI_prediction) (3.0.9)\n",
      "Requirement already satisfied: cycler>=0.10 in /Users/julian/miniforge3/envs/MI_pred/lib/python3.9/site-packages (from matplotlib->braindecode->MI_prediction) (0.11.0)\n",
      "Requirement already satisfied: fonttools>=4.22.0 in /Users/julian/miniforge3/envs/MI_pred/lib/python3.9/site-packages (from matplotlib->braindecode->MI_prediction) (4.34.4)\n",
      "Requirement already satisfied: packaging>=20.0 in /Users/julian/miniforge3/envs/MI_pred/lib/python3.9/site-packages (from matplotlib->braindecode->MI_prediction) (21.3)\n",
      "Requirement already satisfied: pillow>=6.2.0 in /Users/julian/miniforge3/envs/MI_pred/lib/python3.9/site-packages (from matplotlib->braindecode->MI_prediction) (9.2.0)\n",
      "Requirement already satisfied: python-dateutil>=2.7 in /Users/julian/miniforge3/envs/MI_pred/lib/python3.9/site-packages (from matplotlib->braindecode->MI_prediction) (2.8.2)\n",
      "Requirement already satisfied: kiwisolver>=1.0.1 in /Users/julian/miniforge3/envs/MI_pred/lib/python3.9/site-packages (from matplotlib->braindecode->MI_prediction) (1.4.4)\n",
      "Requirement already satisfied: decorator in /Users/julian/miniforge3/envs/MI_pred/lib/python3.9/site-packages (from mne->braindecode->MI_prediction) (5.1.1)\n",
      "Requirement already satisfied: jinja2 in /Users/julian/miniforge3/envs/MI_pred/lib/python3.9/site-packages (from mne->braindecode->MI_prediction) (3.1.2)\n",
      "Requirement already satisfied: pytz>=2020.1 in /Users/julian/miniforge3/envs/MI_pred/lib/python3.9/site-packages (from pandas->braindecode->MI_prediction) (2022.1)\n",
      "Requirement already satisfied: appdirs>=1.3.0 in /Users/julian/miniforge3/envs/MI_pred/lib/python3.9/site-packages (from pooch<2.0,>=1.6->moabb->MI_prediction) (1.4.4)\n",
      "Requirement already satisfied: joblib in /Users/julian/miniforge3/envs/MI_pred/lib/python3.9/site-packages (from pyriemann>=0.2.6->moabb->MI_prediction) (1.1.0)\n",
      "Requirement already satisfied: charset-normalizer<3,>=2 in /Users/julian/miniforge3/envs/MI_pred/lib/python3.9/site-packages (from requests<3.0.0,>=2.15.1->moabb->MI_prediction) (2.1.0)\n",
      "Requirement already satisfied: urllib3<1.27,>=1.21.1 in /Users/julian/miniforge3/envs/MI_pred/lib/python3.9/site-packages (from requests<3.0.0,>=2.15.1->moabb->MI_prediction) (1.26.10)\n",
      "Requirement already satisfied: idna<4,>=2.5 in /Users/julian/miniforge3/envs/MI_pred/lib/python3.9/site-packages (from requests<3.0.0,>=2.15.1->moabb->MI_prediction) (3.3)\n",
      "Requirement already satisfied: certifi>=2017.4.17 in /Users/julian/miniforge3/envs/MI_pred/lib/python3.9/site-packages (from requests<3.0.0,>=2.15.1->moabb->MI_prediction) (2022.6.15)\n",
      "Requirement already satisfied: threadpoolctl>=2.0.0 in /Users/julian/miniforge3/envs/MI_pred/lib/python3.9/site-packages (from scikit-learn<2.0,>=1.0->moabb->MI_prediction) (3.1.0)\n",
      "Requirement already satisfied: tabulate>=0.7.7 in /Users/julian/miniforge3/envs/MI_pred/lib/python3.9/site-packages (from skorch->braindecode->MI_prediction) (0.8.10)\n",
      "Requirement already satisfied: six>=1.5 in /Users/julian/miniforge3/envs/MI_pred/lib/python3.9/site-packages (from python-dateutil>=2.7->matplotlib->braindecode->MI_prediction) (1.16.0)\n",
      "Requirement already satisfied: MarkupSafe>=2.0 in /Users/julian/miniforge3/envs/MI_pred/lib/python3.9/site-packages (from jinja2->mne->braindecode->MI_prediction) (2.1.1)\n",
      "Installing collected packages: MI_prediction\n",
      "  Attempting uninstall: MI_prediction\n",
      "    Found existing installation: MI-prediction 0.1\n",
      "    Uninstalling MI-prediction-0.1:\n",
      "      Successfully uninstalled MI-prediction-0.1\n",
      "  Running setup.py develop for MI_prediction\n",
      "Successfully installed MI_prediction-0.1\n",
      "Note: you may need to restart the kernel to use updated packages.\n"
     ]
    }
   ],
   "source": [
    "%pip install -e git+https://github.com/UN-GCPDS/python-gcpds.MI_prediction.git#egg=MI_prediction"
   ]
  },
  {
   "cell_type": "code",
   "execution_count": 24,
   "metadata": {},
   "outputs": [],
   "source": [
    "from moabb.datasets import Cho2017\n",
    "import mne"
   ]
  },
  {
   "cell_type": "code",
   "execution_count": 40,
   "metadata": {},
   "outputs": [
    {
     "ename": "TypeError",
     "evalue": "__init__() got an unexpected keyword argument 'events'",
     "output_type": "error",
     "traceback": [
      "\u001b[0;31m---------------------------------------------------------------------------\u001b[0m",
      "\u001b[0;31mTypeError\u001b[0m                                 Traceback (most recent call last)",
      "\u001b[1;32m/Users/julian/Documents/python-gcpds.MI_prediction/Examples/Load_datasets.ipynb Celda 3\u001b[0m in \u001b[0;36m<cell line: 1>\u001b[0;34m()\u001b[0m\n\u001b[0;32m----> <a href='vscode-notebook-cell:/Users/julian/Documents/python-gcpds.MI_prediction/Examples/Load_datasets.ipynb#ch0000002?line=0'>1</a>\u001b[0m ds \u001b[39m=\u001b[39m Cho2017(events\u001b[39m=\u001b[39;49m\u001b[39mdict\u001b[39;49m(left_hand\u001b[39m=\u001b[39;49m\u001b[39m1\u001b[39;49m, right_hand\u001b[39m=\u001b[39;49m\u001b[39m2\u001b[39;49m,rest\u001b[39m=\u001b[39;49m\u001b[39m3\u001b[39;49m))\n",
      "\u001b[0;31mTypeError\u001b[0m: __init__() got an unexpected keyword argument 'events'"
     ]
    }
   ],
   "source": [
    "ds = Cho2017()"
   ]
  },
  {
   "cell_type": "code",
   "execution_count": 33,
   "metadata": {},
   "outputs": [
    {
     "data": {
      "text/plain": [
       "moabb.datasets.gigadb.Cho2017"
      ]
     },
     "execution_count": 33,
     "metadata": {},
     "output_type": "execute_result"
    }
   ],
   "source": [
    "ds"
   ]
  },
  {
   "cell_type": "code",
   "execution_count": 50,
   "metadata": {},
   "outputs": [
    {
     "name": "stderr",
     "output_type": "stream",
     "text": [
      "Trials demeaned and stacked with zero buffer to create continuous data -- edge effects present\n",
      "Trials demeaned and stacked with zero buffer to create continuous data -- edge effects present\n"
     ]
    }
   ],
   "source": [
    "data = ds.get_data([1,2])"
   ]
  },
  {
   "cell_type": "code",
   "execution_count": 51,
   "metadata": {},
   "outputs": [
    {
     "data": {
      "text/plain": [
       "{1: {'session_0': {'run_0': <RawArray | 69 x 717300 (1401.0 s), ~377.7 MB, data loaded>}},\n",
       " 2: {'session_0': {'run_0': <RawArray | 69 x 717300 (1401.0 s), ~377.7 MB, data loaded>}}}"
      ]
     },
     "execution_count": 51,
     "metadata": {},
     "output_type": "execute_result"
    }
   ],
   "source": [
    "data"
   ]
  },
  {
   "cell_type": "code",
   "execution_count": 39,
   "metadata": {},
   "outputs": [
    {
     "data": {
      "text/html": [
       "<table class=\"table table-hover table-striped table-sm table-responsive small\">\n",
       "    <tr>\n",
       "        <th>Measurement date</th>\n",
       "        \n",
       "        <td>Unknown</td>\n",
       "        \n",
       "    </tr>\n",
       "    <tr>\n",
       "        <th>Experimenter</th>\n",
       "        \n",
       "        <td>Unknown</td>\n",
       "        \n",
       "    </tr>\n",
       "        <th>Participant</th>\n",
       "        \n",
       "        <td>Unknown</td>\n",
       "        \n",
       "    </tr>\n",
       "    <tr>\n",
       "        <th>Digitized points</th>\n",
       "        \n",
       "        <td>0 points</td>\n",
       "        \n",
       "    </tr>\n",
       "    <tr>\n",
       "        <th>Good channels</th>\n",
       "        <td>64 EEG, 4 EMG, 1 Stimulus</td>\n",
       "    </tr>\n",
       "    <tr>\n",
       "        <th>Bad channels</th>\n",
       "        <td>None</td>\n",
       "    </tr>\n",
       "    <tr>\n",
       "        <th>EOG channels</th>\n",
       "        <td>Not available</td>\n",
       "    </tr>\n",
       "    <tr>\n",
       "        <th>ECG channels</th>\n",
       "        <td>Not available</td>\n",
       "    \n",
       "    <tr>\n",
       "        <th>Sampling frequency</th>\n",
       "        <td>512.00 Hz</td>\n",
       "    </tr>\n",
       "    \n",
       "    \n",
       "    <tr>\n",
       "        <th>Highpass</th>\n",
       "        <td>0.00 Hz</td>\n",
       "    </tr>\n",
       "    \n",
       "    \n",
       "    <tr>\n",
       "        <th>Lowpass</th>\n",
       "        <td>256.00 Hz</td>\n",
       "    </tr>\n",
       "    \n",
       "    \n",
       "    \n",
       "    <tr>\n",
       "        <th>Duration</th>\n",
       "        <td>00:23:20 (HH:MM:SS)</td>\n",
       "    </tr>\n",
       "</table>"
      ],
      "text/plain": [
       "<RawArray | 69 x 717300 (1401.0 s), ~377.7 MB, data loaded>"
      ]
     },
     "execution_count": 39,
     "metadata": {},
     "output_type": "execute_result"
    }
   ],
   "source": [
    "data[1]['session_0']['run_0']"
   ]
  },
  {
   "cell_type": "code",
   "execution_count": 25,
   "metadata": {},
   "outputs": [
    {
     "name": "stdout",
     "output_type": "stream",
     "text": [
      "200 events found\n",
      "Event IDs: [1 2]\n",
      "[[  1023      0      1]\n",
      " [  4607      0      1]\n",
      " [  8191      0      1]\n",
      " [ 11775      0      1]\n",
      " [ 15359      0      1]\n",
      " [ 18943      0      1]\n",
      " [ 22527      0      1]\n",
      " [ 26111      0      1]\n",
      " [ 29695      0      1]\n",
      " [ 33279      0      1]\n",
      " [ 36863      0      1]\n",
      " [ 40447      0      1]\n",
      " [ 44031      0      1]\n",
      " [ 47615      0      1]\n",
      " [ 51199      0      1]\n",
      " [ 54783      0      1]\n",
      " [ 58367      0      1]\n",
      " [ 61951      0      1]\n",
      " [ 65535      0      1]\n",
      " [ 69119      0      1]\n",
      " [ 72703      0      1]\n",
      " [ 76287      0      1]\n",
      " [ 79871      0      1]\n",
      " [ 83455      0      1]\n",
      " [ 87039      0      1]\n",
      " [ 90623      0      1]\n",
      " [ 94207      0      1]\n",
      " [ 97791      0      1]\n",
      " [101375      0      1]\n",
      " [104959      0      1]\n",
      " [108543      0      1]\n",
      " [112127      0      1]\n",
      " [115711      0      1]\n",
      " [119295      0      1]\n",
      " [122879      0      1]\n",
      " [126463      0      1]\n",
      " [130047      0      1]\n",
      " [133631      0      1]\n",
      " [137215      0      1]\n",
      " [140799      0      1]\n",
      " [144383      0      1]\n",
      " [147967      0      1]\n",
      " [151551      0      1]\n",
      " [155135      0      1]\n",
      " [158719      0      1]\n",
      " [162303      0      1]\n",
      " [165887      0      1]\n",
      " [169471      0      1]\n",
      " [173055      0      1]\n",
      " [176639      0      1]\n",
      " [180223      0      1]\n",
      " [183807      0      1]\n",
      " [187391      0      1]\n",
      " [190975      0      1]\n",
      " [194559      0      1]\n",
      " [198143      0      1]\n",
      " [201727      0      1]\n",
      " [205311      0      1]\n",
      " [208895      0      1]\n",
      " [212479      0      1]\n",
      " [216063      0      1]\n",
      " [219647      0      1]\n",
      " [223231      0      1]\n",
      " [226815      0      1]\n",
      " [230399      0      1]\n",
      " [233983      0      1]\n",
      " [237567      0      1]\n",
      " [241151      0      1]\n",
      " [244735      0      1]\n",
      " [248319      0      1]\n",
      " [251903      0      1]\n",
      " [255487      0      1]\n",
      " [259071      0      1]\n",
      " [262655      0      1]\n",
      " [266239      0      1]\n",
      " [269823      0      1]\n",
      " [273407      0      1]\n",
      " [276991      0      1]\n",
      " [280575      0      1]\n",
      " [284159      0      1]\n",
      " [287743      0      1]\n",
      " [291327      0      1]\n",
      " [294911      0      1]\n",
      " [298495      0      1]\n",
      " [302079      0      1]\n",
      " [305663      0      1]\n",
      " [309247      0      1]\n",
      " [312831      0      1]\n",
      " [316415      0      1]\n",
      " [319999      0      1]\n",
      " [323583      0      1]\n",
      " [327167      0      1]\n",
      " [330751      0      1]\n",
      " [334335      0      1]\n",
      " [337919      0      1]\n",
      " [341503      0      1]\n",
      " [345087      0      1]\n",
      " [348671      0      1]\n",
      " [352255      0      1]\n",
      " [355839      0      1]\n",
      " [359923      0      2]\n",
      " [363507      0      2]\n",
      " [367091      0      2]\n",
      " [370675      0      2]\n",
      " [374259      0      2]\n",
      " [377843      0      2]\n",
      " [381427      0      2]\n",
      " [385011      0      2]\n",
      " [388595      0      2]\n",
      " [392179      0      2]\n",
      " [395763      0      2]\n",
      " [399347      0      2]\n",
      " [402931      0      2]\n",
      " [406515      0      2]\n",
      " [410099      0      2]\n",
      " [413683      0      2]\n",
      " [417267      0      2]\n",
      " [420851      0      2]\n",
      " [424435      0      2]\n",
      " [428019      0      2]\n",
      " [431603      0      2]\n",
      " [435187      0      2]\n",
      " [438771      0      2]\n",
      " [442355      0      2]\n",
      " [445939      0      2]\n",
      " [449523      0      2]\n",
      " [453107      0      2]\n",
      " [456691      0      2]\n",
      " [460275      0      2]\n",
      " [463859      0      2]\n",
      " [467443      0      2]\n",
      " [471027      0      2]\n",
      " [474611      0      2]\n",
      " [478195      0      2]\n",
      " [481779      0      2]\n",
      " [485363      0      2]\n",
      " [488947      0      2]\n",
      " [492531      0      2]\n",
      " [496115      0      2]\n",
      " [499699      0      2]\n",
      " [503283      0      2]\n",
      " [506867      0      2]\n",
      " [510451      0      2]\n",
      " [514035      0      2]\n",
      " [517619      0      2]\n",
      " [521203      0      2]\n",
      " [524787      0      2]\n",
      " [528371      0      2]\n",
      " [531955      0      2]\n",
      " [535539      0      2]\n",
      " [539123      0      2]\n",
      " [542707      0      2]\n",
      " [546291      0      2]\n",
      " [549875      0      2]\n",
      " [553459      0      2]\n",
      " [557043      0      2]\n",
      " [560627      0      2]\n",
      " [564211      0      2]\n",
      " [567795      0      2]\n",
      " [571379      0      2]\n",
      " [574963      0      2]\n",
      " [578547      0      2]\n",
      " [582131      0      2]\n",
      " [585715      0      2]\n",
      " [589299      0      2]\n",
      " [592883      0      2]\n",
      " [596467      0      2]\n",
      " [600051      0      2]\n",
      " [603635      0      2]\n",
      " [607219      0      2]\n",
      " [610803      0      2]\n",
      " [614387      0      2]\n",
      " [617971      0      2]\n",
      " [621555      0      2]\n",
      " [625139      0      2]\n",
      " [628723      0      2]\n",
      " [632307      0      2]\n",
      " [635891      0      2]\n",
      " [639475      0      2]\n",
      " [643059      0      2]\n",
      " [646643      0      2]\n",
      " [650227      0      2]\n",
      " [653811      0      2]\n",
      " [657395      0      2]\n",
      " [660979      0      2]\n",
      " [664563      0      2]\n",
      " [668147      0      2]\n",
      " [671731      0      2]\n",
      " [675315      0      2]\n",
      " [678899      0      2]\n",
      " [682483      0      2]\n",
      " [686067      0      2]\n",
      " [689651      0      2]\n",
      " [693235      0      2]\n",
      " [696819      0      2]\n",
      " [700403      0      2]\n",
      " [703987      0      2]\n",
      " [707571      0      2]\n",
      " [711155      0      2]\n",
      " [714739      0      2]]\n"
     ]
    }
   ],
   "source": [
    "for subj_id, subj_data in data.items():\n",
    "     for sess_id, sess_data in subj_data.items():\n",
    "            for run_id, raw in sess_data.items():\n",
    "                events = mne.find_events(raw)\n",
    "                print(events)"
   ]
  },
  {
   "cell_type": "code",
   "execution_count": 26,
   "metadata": {},
   "outputs": [],
   "source": [
    "from scipy.io import loadmat"
   ]
  },
  {
   "cell_type": "code",
   "execution_count": 41,
   "metadata": {},
   "outputs": [],
   "source": [
    "d_mat = loadmat('/Users/julian/mne_data/MNE-gigadb-data/gigadb/pub/10.5524/100001_101000/100295/mat_data/s01.mat',\n",
    "            squeeze_me=True,\n",
    "            struct_as_record=False,\n",
    "            verify_compressed_data_integrity=False,\n",
    "        )[\"eeg\"]"
   ]
  },
  {
   "cell_type": "code",
   "execution_count": 59,
   "metadata": {},
   "outputs": [
    {
     "name": "stderr",
     "output_type": "stream",
     "text": [
      "Fontconfig warning: ignoring UTF-8: not a valid region tag\n"
     ]
    }
   ],
   "source": [
    "import matplotlib.pyplot as plt"
   ]
  },
  {
   "cell_type": "code",
   "execution_count": 67,
   "metadata": {},
   "outputs": [
    {
     "data": {
      "text/plain": [
       "66.5"
      ]
     },
     "execution_count": 67,
     "metadata": {},
     "output_type": "execute_result"
    }
   ],
   "source": [
    "d_mat.rest.shape[-1]/d_mat.srate"
   ]
  },
  {
   "cell_type": "markdown",
   "metadata": {},
   "source": [
    "# Create Cho2017 resting state class"
   ]
  },
  {
   "cell_type": "code",
   "execution_count": 128,
   "metadata": {},
   "outputs": [],
   "source": [
    "import logging\n",
    "\n",
    "import numpy as np\n",
    "from mne import create_info\n",
    "from mne.channels import make_standard_montage\n",
    "from mne.io import RawArray\n",
    "from scipy.io import loadmat\n",
    "from moabb.datasets import download as dl\n",
    "from moabb.datasets.base import BaseDataset\n",
    "from moabb.datasets.base import *\n",
    "from braindecode.preprocessing.preprocess import exponential_moving_standardize, preprocess, Preprocessor, scale\n",
    "from braindecode.datasets import create_from_mne_raw\n",
    "import pandas as pd\n"
   ]
  },
  {
   "cell_type": "code",
   "execution_count": 53,
   "metadata": {},
   "outputs": [],
   "source": [
    "log = logging.getLogger(__name__)\n",
    "GIGA_URL = \"ftp://parrot.genomics.cn/gigadb/pub/10.5524/100001_101000/100295/mat_data/\""
   ]
  },
  {
   "cell_type": "code",
   "execution_count": 122,
   "metadata": {},
   "outputs": [],
   "source": [
    "class Cho2017_Rest(BaseDataset):\n",
    "    def __init__(self):\n",
    "        super().__init__(\n",
    "            subjects=list(range(1, 53)),\n",
    "            sessions_per_subject=1,\n",
    "            events=dict(rest=1),\n",
    "            code=\"Cho2017_Rest\",\n",
    "            interval=[0, 60],  # full trial is 0-3s, but edge effects\n",
    "            paradigm=\"imagery\",\n",
    "            doi=\"10.5524/100295\",\n",
    "        )\n",
    "\n",
    "        for ii in [32, 46, 49]:\n",
    "            self.subject_list.remove(ii)\n",
    "\n",
    "    def _get_single_subject_data(self, subject):\n",
    "        \"\"\"return data for a single subject\"\"\"\n",
    "        fname = self.data_path(subject)\n",
    "\n",
    "        data = loadmat(\n",
    "            fname,\n",
    "            squeeze_me=True,\n",
    "            struct_as_record=False,\n",
    "            verify_compressed_data_integrity=False,\n",
    "        )[\"eeg\"]\n",
    "\n",
    "        # fmt: off\n",
    "        eeg_ch_names = [\n",
    "            \"Fp1\", \"AF7\", \"AF3\", \"F1\", \"F3\", \"F5\", \"F7\", \"FT7\", \"FC5\", \"FC3\", \"FC1\",\n",
    "            \"C1\", \"C3\", \"C5\", \"T7\", \"TP7\", \"CP5\", \"CP3\", \"CP1\", \"P1\", \"P3\", \"P5\", \"P7\",\n",
    "            \"P9\", \"PO7\", \"PO3\", \"O1\", \"Iz\", \"Oz\", \"POz\", \"Pz\", \"CPz\", \"Fpz\", \"Fp2\",\n",
    "            \"AF8\", \"AF4\", \"AFz\", \"Fz\", \"F2\", \"F4\", \"F6\", \"F8\", \"FT8\", \"FC6\", \"FC4\",\n",
    "            \"FC2\", \"FCz\", \"Cz\", \"C2\", \"C4\", \"C6\", \"T8\", \"TP8\", \"CP6\", \"CP4\", \"CP2\",\n",
    "            \"P2\", \"P4\", \"P6\", \"P8\", \"P10\", \"PO8\", \"PO4\", \"O2\",\n",
    "        ]\n",
    "        # fmt: on\n",
    "        emg_ch_names = [\"EMG1\", \"EMG2\", \"EMG3\", \"EMG4\"]\n",
    "        ch_names = eeg_ch_names + emg_ch_names \n",
    "        ch_types = [\"eeg\"] * 64 + [\"emg\"] * 4 \n",
    "        montage = make_standard_montage(\"standard_1005\")\n",
    "        resting = data.rest - data.rest.mean(axis=1, keepdims=True)\n",
    "        \n",
    "        eeg_rest = resting * 1e-6\n",
    "\n",
    "        info = create_info(ch_names=ch_names, ch_types=ch_types, sfreq=data.srate)\n",
    "        raw = RawArray(data=eeg_rest, info=info, verbose=False)\n",
    "        raw.set_montage(montage)\n",
    "\n",
    "        return {\"session_0\": {\"run_0\": raw}}\n",
    "\n",
    "    def data_path(\n",
    "        self, subject, path=None, force_update=False, update_path=None, verbose=None\n",
    "    ):\n",
    "        if subject not in self.subject_list:\n",
    "            raise (ValueError(\"Invalid subject number\"))\n",
    "\n",
    "        url = \"{:s}s{:02d}.mat\".format(GIGA_URL, subject)\n",
    "        return dl.data_dl(url, \"GIGADB\", path, force_update, verbose)"
   ]
  },
  {
   "cell_type": "code",
   "execution_count": 123,
   "metadata": {},
   "outputs": [],
   "source": [
    "ds_r = Cho2017_Rest()"
   ]
  },
  {
   "cell_type": "code",
   "execution_count": 112,
   "metadata": {},
   "outputs": [],
   "source": [
    "s1 = ds_r.get_data([1])"
   ]
  },
  {
   "cell_type": "code",
   "execution_count": 113,
   "metadata": {},
   "outputs": [
    {
     "data": {
      "text/plain": [
       "{1: {'session_0': {'run_0': <RawArray | 68 x 34048 (66.5 s), ~17.8 MB, data loaded>}}}"
      ]
     },
     "execution_count": 113,
     "metadata": {},
     "output_type": "execute_result"
    }
   ],
   "source": [
    "s1"
   ]
  },
  {
   "cell_type": "code",
   "execution_count": 85,
   "metadata": {},
   "outputs": [],
   "source": [
    "def _fetch_and_unpack_moabb_data(dataset, subject_ids):\n",
    "    data = dataset.get_data(subject_ids)\n",
    "    raws, subject_ids, session_ids, run_ids = [], [], [], []\n",
    "    for subj_id, subj_data in data.items():\n",
    "        for sess_id, sess_data in subj_data.items():\n",
    "            for run_id, raw in sess_data.items():\n",
    "                raws.append(raw)\n",
    "                subject_ids.append(subj_id)\n",
    "                session_ids.append(sess_id)\n",
    "                run_ids.append(run_id)\n",
    "    description = pd.DataFrame({\n",
    "        'subject': subject_ids,\n",
    "        'session': session_ids,\n",
    "        'run': run_ids\n",
    "    })\n",
    "    return raws, description"
   ]
  },
  {
   "cell_type": "code",
   "execution_count": null,
   "metadata": {},
   "outputs": [],
   "source": [
    "raws,description = _fetch_and_unpack_moabb_data(ds_r, [1])"
   ]
  },
  {
   "cell_type": "code",
   "execution_count": 125,
   "metadata": {},
   "outputs": [
    {
     "data": {
      "text/plain": [
       "[<RawArray | 68 x 34048 (66.5 s), ~17.8 MB, data loaded>]"
      ]
     },
     "execution_count": 125,
     "metadata": {},
     "output_type": "execute_result"
    }
   ],
   "source": [
    "raws"
   ]
  },
  {
   "cell_type": "code",
   "execution_count": 111,
   "metadata": {},
   "outputs": [
    {
     "ename": "ValueError",
     "evalue": "No stim channels found. Consider specifying them manually using the 'stim_channel' parameter.",
     "output_type": "error",
     "traceback": [
      "\u001b[0;31m---------------------------------------------------------------------------\u001b[0m",
      "\u001b[0;31mValueError\u001b[0m                                Traceback (most recent call last)",
      "\u001b[1;32m/Users/julian/Documents/python-gcpds.MI_prediction/Examples/Load_datasets.ipynb Celda 20\u001b[0m in \u001b[0;36m<cell line: 1>\u001b[0;34m()\u001b[0m\n\u001b[0;32m----> <a href='vscode-notebook-cell:/Users/julian/Documents/python-gcpds.MI_prediction/Examples/Load_datasets.ipynb#ch0000028?line=0'>1</a>\u001b[0m events \u001b[39m=\u001b[39m mne\u001b[39m.\u001b[39;49mfind_events(raws[\u001b[39m0\u001b[39;49m])\n",
      "File \u001b[0;32m<decorator-gen-202>:12\u001b[0m, in \u001b[0;36mfind_events\u001b[0;34m(raw, stim_channel, output, consecutive, min_duration, shortest_event, mask, uint_cast, mask_type, initial_event, verbose)\u001b[0m\n",
      "File \u001b[0;32m~/miniforge3/envs/MI_pred/lib/python3.9/site-packages/mne/event.py:700\u001b[0m, in \u001b[0;36mfind_events\u001b[0;34m(raw, stim_channel, output, consecutive, min_duration, shortest_event, mask, uint_cast, mask_type, initial_event, verbose)\u001b[0m\n\u001b[1;32m    698\u001b[0m \u001b[39m# pull stim channel from config if necessary\u001b[39;00m\n\u001b[1;32m    699\u001b[0m \u001b[39mtry\u001b[39;00m:\n\u001b[0;32m--> 700\u001b[0m     stim_channel \u001b[39m=\u001b[39m _get_stim_channel(stim_channel, raw\u001b[39m.\u001b[39;49minfo)\n\u001b[1;32m    701\u001b[0m \u001b[39mexcept\u001b[39;00m \u001b[39mValueError\u001b[39;00m:\n\u001b[1;32m    702\u001b[0m     \u001b[39mif\u001b[39;00m \u001b[39mlen\u001b[39m(raw\u001b[39m.\u001b[39mannotations) \u001b[39m>\u001b[39m \u001b[39m0\u001b[39m:\n",
      "File \u001b[0;32m~/miniforge3/envs/MI_pred/lib/python3.9/site-packages/mne/utils/config.py:433\u001b[0m, in \u001b[0;36m_get_stim_channel\u001b[0;34m(stim_channel, info, raise_error)\u001b[0m\n\u001b[1;32m    431\u001b[0m     stim_channel \u001b[39m=\u001b[39m [info[\u001b[39m'\u001b[39m\u001b[39mch_names\u001b[39m\u001b[39m'\u001b[39m][ch_] \u001b[39mfor\u001b[39;00m ch_ \u001b[39min\u001b[39;00m stim_channel]\n\u001b[1;32m    432\u001b[0m \u001b[39melif\u001b[39;00m raise_error:\n\u001b[0;32m--> 433\u001b[0m     \u001b[39mraise\u001b[39;00m \u001b[39mValueError\u001b[39;00m(\u001b[39m\"\u001b[39m\u001b[39mNo stim channels found. Consider specifying them \u001b[39m\u001b[39m\"\u001b[39m\n\u001b[1;32m    434\u001b[0m                      \u001b[39m\"\u001b[39m\u001b[39mmanually using the \u001b[39m\u001b[39m'\u001b[39m\u001b[39mstim_channel\u001b[39m\u001b[39m'\u001b[39m\u001b[39m parameter.\u001b[39m\u001b[39m\"\u001b[39m)\n\u001b[1;32m    435\u001b[0m \u001b[39mreturn\u001b[39;00m stim_channel\n",
      "\u001b[0;31mValueError\u001b[0m: No stim channels found. Consider specifying them manually using the 'stim_channel' parameter."
     ]
    }
   ],
   "source": [
    "events = mne.find_events(raws[0])"
   ]
  },
  {
   "cell_type": "code",
   "execution_count": 124,
   "metadata": {},
   "outputs": [
    {
     "ename": "TypeError",
     "evalue": "Can't instantiate abstract class BaseDataset with abstract methods _get_single_subject_data, data_path",
     "output_type": "error",
     "traceback": [
      "\u001b[0;31m---------------------------------------------------------------------------\u001b[0m",
      "\u001b[0;31mTypeError\u001b[0m                                 Traceback (most recent call last)",
      "\u001b[1;32m/Users/julian/Documents/python-gcpds.MI_prediction/Examples/Load_datasets.ipynb Celda 23\u001b[0m in \u001b[0;36m<cell line: 1>\u001b[0;34m()\u001b[0m\n\u001b[0;32m----> <a href='vscode-notebook-cell:/Users/julian/Documents/python-gcpds.MI_prediction/Examples/Load_datasets.ipynb#ch0000025?line=0'>1</a>\u001b[0m BaseDataset(raws[\u001b[39m0\u001b[39;49m], description)\n",
      "\u001b[0;31mTypeError\u001b[0m: Can't instantiate abstract class BaseDataset with abstract methods _get_single_subject_data, data_path"
     ]
    }
   ],
   "source": [
    "BaseDataset(raws[0], description)"
   ]
  },
  {
   "cell_type": "code",
   "execution_count": 118,
   "metadata": {},
   "outputs": [
    {
     "ename": "TypeError",
     "evalue": "Can't instantiate abstract class BaseDataset with abstract methods _get_single_subject_data, data_path",
     "output_type": "error",
     "traceback": [
      "\u001b[0;31m---------------------------------------------------------------------------\u001b[0m",
      "\u001b[0;31mTypeError\u001b[0m                                 Traceback (most recent call last)",
      "\u001b[1;32m/Users/julian/Documents/python-gcpds.MI_prediction/Examples/Load_datasets.ipynb Celda 24\u001b[0m in \u001b[0;36m<cell line: 1>\u001b[0;34m()\u001b[0m\n\u001b[0;32m----> <a href='vscode-notebook-cell:/Users/julian/Documents/python-gcpds.MI_prediction/Examples/Load_datasets.ipynb#ch0000033?line=0'>1</a>\u001b[0m all_base_ds \u001b[39m=\u001b[39m [BaseDataset(raw, row)\n\u001b[1;32m      <a href='vscode-notebook-cell:/Users/julian/Documents/python-gcpds.MI_prediction/Examples/Load_datasets.ipynb#ch0000033?line=1'>2</a>\u001b[0m                        \u001b[39mfor\u001b[39;00m raw, (_, row) \u001b[39min\u001b[39;00m \u001b[39mzip\u001b[39m(raws, description\u001b[39m.\u001b[39miterrows())]\n",
      "\u001b[1;32m/Users/julian/Documents/python-gcpds.MI_prediction/Examples/Load_datasets.ipynb Celda 24\u001b[0m in \u001b[0;36m<listcomp>\u001b[0;34m(.0)\u001b[0m\n\u001b[0;32m----> <a href='vscode-notebook-cell:/Users/julian/Documents/python-gcpds.MI_prediction/Examples/Load_datasets.ipynb#ch0000033?line=0'>1</a>\u001b[0m all_base_ds \u001b[39m=\u001b[39m [BaseDataset(raw, row)\n\u001b[1;32m      <a href='vscode-notebook-cell:/Users/julian/Documents/python-gcpds.MI_prediction/Examples/Load_datasets.ipynb#ch0000033?line=1'>2</a>\u001b[0m                        \u001b[39mfor\u001b[39;00m raw, (_, row) \u001b[39min\u001b[39;00m \u001b[39mzip\u001b[39m(raws, description\u001b[39m.\u001b[39miterrows())]\n",
      "\u001b[0;31mTypeError\u001b[0m: Can't instantiate abstract class BaseDataset with abstract methods _get_single_subject_data, data_path"
     ]
    }
   ],
   "source": [
    "all_base_ds = [BaseDataset(raw, row)\n",
    "                       for raw, (_, row) in zip(raws, description.iterrows())]"
   ]
  },
  {
   "cell_type": "code",
   "execution_count": 114,
   "metadata": {},
   "outputs": [
    {
     "ename": "ValueError",
     "evalue": "All picks must be < n_channels (68), got 68",
     "output_type": "error",
     "traceback": [
      "\u001b[0;31m---------------------------------------------------------------------------\u001b[0m",
      "\u001b[0;31mValueError\u001b[0m                                Traceback (most recent call last)",
      "\u001b[1;32m/Users/julian/Documents/python-gcpds.MI_prediction/Examples/Load_datasets.ipynb Celda 24\u001b[0m in \u001b[0;36m<cell line: 1>\u001b[0;34m()\u001b[0m\n\u001b[0;32m----> <a href='vscode-notebook-cell:/Users/julian/Documents/python-gcpds.MI_prediction/Examples/Load_datasets.ipynb#ch0000022?line=0'>1</a>\u001b[0m rest_br \u001b[39m=\u001b[39m create_from_mne_raw(raws[\u001b[39m0\u001b[39;49m],\u001b[39m0\u001b[39;49m,\u001b[39m0\u001b[39;49m,\u001b[39mlen\u001b[39;49m(raws[\u001b[39m0\u001b[39;49m]),\u001b[39m0\u001b[39;49m,\u001b[39mFalse\u001b[39;49;00m)\n",
      "File \u001b[0;32m~/miniforge3/envs/MI_pred/lib/python3.9/site-packages/braindecode/datasets/mne.py:69\u001b[0m, in \u001b[0;36mcreate_from_mne_raw\u001b[0;34m(raws, trial_start_offset_samples, trial_stop_offset_samples, window_size_samples, window_stride_samples, drop_last_window, descriptions, mapping, preload, drop_bad_windows, accepted_bads_ratio)\u001b[0m\n\u001b[1;32m     66\u001b[0m     base_datasets \u001b[39m=\u001b[39m [BaseDataset(raw, desc) \u001b[39mfor\u001b[39;00m raw, desc \u001b[39min\u001b[39;00m\n\u001b[1;32m     67\u001b[0m                      \u001b[39mzip\u001b[39m(raws, descriptions)]\n\u001b[1;32m     68\u001b[0m \u001b[39melse\u001b[39;00m:\n\u001b[0;32m---> 69\u001b[0m     base_datasets \u001b[39m=\u001b[39m [BaseDataset(raw) \u001b[39mfor\u001b[39;00m raw \u001b[39min\u001b[39;00m raws]\n\u001b[1;32m     71\u001b[0m base_datasets \u001b[39m=\u001b[39m BaseConcatDataset(base_datasets)\n\u001b[1;32m     72\u001b[0m windows_datasets \u001b[39m=\u001b[39m create_windows_from_events(\n\u001b[1;32m     73\u001b[0m     base_datasets,\n\u001b[1;32m     74\u001b[0m     trial_start_offset_samples\u001b[39m=\u001b[39mtrial_start_offset_samples,\n\u001b[0;32m   (...)\u001b[0m\n\u001b[1;32m     82\u001b[0m     accepted_bads_ratio\u001b[39m=\u001b[39maccepted_bads_ratio,\n\u001b[1;32m     83\u001b[0m )\n",
      "File \u001b[0;32m~/miniforge3/envs/MI_pred/lib/python3.9/site-packages/braindecode/datasets/mne.py:69\u001b[0m, in \u001b[0;36m<listcomp>\u001b[0;34m(.0)\u001b[0m\n\u001b[1;32m     66\u001b[0m     base_datasets \u001b[39m=\u001b[39m [BaseDataset(raw, desc) \u001b[39mfor\u001b[39;00m raw, desc \u001b[39min\u001b[39;00m\n\u001b[1;32m     67\u001b[0m                      \u001b[39mzip\u001b[39m(raws, descriptions)]\n\u001b[1;32m     68\u001b[0m \u001b[39melse\u001b[39;00m:\n\u001b[0;32m---> 69\u001b[0m     base_datasets \u001b[39m=\u001b[39m [BaseDataset(raw) \u001b[39mfor\u001b[39;00m raw \u001b[39min\u001b[39;00m raws]\n\u001b[1;32m     71\u001b[0m base_datasets \u001b[39m=\u001b[39m BaseConcatDataset(base_datasets)\n\u001b[1;32m     72\u001b[0m windows_datasets \u001b[39m=\u001b[39m create_windows_from_events(\n\u001b[1;32m     73\u001b[0m     base_datasets,\n\u001b[1;32m     74\u001b[0m     trial_start_offset_samples\u001b[39m=\u001b[39mtrial_start_offset_samples,\n\u001b[0;32m   (...)\u001b[0m\n\u001b[1;32m     82\u001b[0m     accepted_bads_ratio\u001b[39m=\u001b[39maccepted_bads_ratio,\n\u001b[1;32m     83\u001b[0m )\n",
      "File \u001b[0;32m~/miniforge3/envs/MI_pred/lib/python3.9/site-packages/mne/io/base.py:809\u001b[0m, in \u001b[0;36mBaseRaw.__getitem__\u001b[0;34m(self, item)\u001b[0m\n\u001b[1;32m    773\u001b[0m \u001b[39mdef\u001b[39;00m \u001b[39m__getitem__\u001b[39m(\u001b[39mself\u001b[39m, item):\n\u001b[1;32m    774\u001b[0m     \u001b[39m\"\"\"Get raw data and times.\u001b[39;00m\n\u001b[1;32m    775\u001b[0m \n\u001b[1;32m    776\u001b[0m \u001b[39m    Parameters\u001b[39;00m\n\u001b[0;32m   (...)\u001b[0m\n\u001b[1;32m    807\u001b[0m \n\u001b[1;32m    808\u001b[0m \u001b[39m    \"\"\"\u001b[39;00m  \u001b[39m# noqa: E501\u001b[39;00m\n\u001b[0;32m--> 809\u001b[0m     \u001b[39mreturn\u001b[39;00m \u001b[39mself\u001b[39;49m\u001b[39m.\u001b[39;49m_getitem(item)\n",
      "File \u001b[0;32m~/miniforge3/envs/MI_pred/lib/python3.9/site-packages/mne/io/base.py:812\u001b[0m, in \u001b[0;36mBaseRaw._getitem\u001b[0;34m(self, item, return_times)\u001b[0m\n\u001b[1;32m    811\u001b[0m \u001b[39mdef\u001b[39;00m \u001b[39m_getitem\u001b[39m(\u001b[39mself\u001b[39m, item, return_times\u001b[39m=\u001b[39m\u001b[39mTrue\u001b[39;00m):\n\u001b[0;32m--> 812\u001b[0m     sel, start, stop \u001b[39m=\u001b[39m \u001b[39mself\u001b[39;49m\u001b[39m.\u001b[39;49m_parse_get_set_params(item)\n\u001b[1;32m    813\u001b[0m     \u001b[39mif\u001b[39;00m \u001b[39mself\u001b[39m\u001b[39m.\u001b[39mpreload:\n\u001b[1;32m    814\u001b[0m         data \u001b[39m=\u001b[39m \u001b[39mself\u001b[39m\u001b[39m.\u001b[39m_data[sel, start:stop]\n",
      "File \u001b[0;32m~/miniforge3/envs/MI_pred/lib/python3.9/site-packages/mne/io/base.py:744\u001b[0m, in \u001b[0;36mBaseRaw._parse_get_set_params\u001b[0;34m(self, item)\u001b[0m\n\u001b[1;32m    740\u001b[0m \u001b[39mif\u001b[39;00m \u001b[39mlen\u001b[39m(item) \u001b[39m!=\u001b[39m \u001b[39m2\u001b[39m:  \u001b[39m# should be channels and time instants\u001b[39;00m\n\u001b[1;32m    741\u001b[0m     \u001b[39mraise\u001b[39;00m \u001b[39mRuntimeError\u001b[39;00m(\u001b[39m\"\u001b[39m\u001b[39mUnable to access raw data (need both channels \u001b[39m\u001b[39m\"\u001b[39m\n\u001b[1;32m    742\u001b[0m                        \u001b[39m\"\u001b[39m\u001b[39mand time)\u001b[39m\u001b[39m\"\u001b[39m)\n\u001b[0;32m--> 744\u001b[0m sel \u001b[39m=\u001b[39m _picks_to_idx(\u001b[39mself\u001b[39;49m\u001b[39m.\u001b[39;49minfo, item[\u001b[39m0\u001b[39;49m])\n\u001b[1;32m    746\u001b[0m \u001b[39mif\u001b[39;00m \u001b[39misinstance\u001b[39m(item[\u001b[39m1\u001b[39m], \u001b[39mslice\u001b[39m):\n\u001b[1;32m    747\u001b[0m     time_slice \u001b[39m=\u001b[39m item[\u001b[39m1\u001b[39m]\n",
      "File \u001b[0;32m~/miniforge3/envs/MI_pred/lib/python3.9/site-packages/mne/io/pick.py:1069\u001b[0m, in \u001b[0;36m_picks_to_idx\u001b[0;34m(info, picks, none, exclude, allow_empty, with_ref_meg, return_kind)\u001b[0m\n\u001b[1;32m   1066\u001b[0m     \u001b[39mraise\u001b[39;00m \u001b[39mValueError\u001b[39;00m(\u001b[39m'\u001b[39m\u001b[39mAll picks must be >= \u001b[39m\u001b[39m%d\u001b[39;00m\u001b[39m, got \u001b[39m\u001b[39m%r\u001b[39;00m\u001b[39m'\u001b[39m\n\u001b[1;32m   1067\u001b[0m                      \u001b[39m%\u001b[39m (\u001b[39m-\u001b[39mn_chan, orig_picks))\n\u001b[1;32m   1068\u001b[0m \u001b[39mif\u001b[39;00m (picks \u001b[39m>\u001b[39m\u001b[39m=\u001b[39m n_chan)\u001b[39m.\u001b[39many():\n\u001b[0;32m-> 1069\u001b[0m     \u001b[39mraise\u001b[39;00m \u001b[39mValueError\u001b[39;00m(\u001b[39m'\u001b[39m\u001b[39mAll picks must be < n_channels (\u001b[39m\u001b[39m%d\u001b[39;00m\u001b[39m), got \u001b[39m\u001b[39m%r\u001b[39;00m\u001b[39m'\u001b[39m\n\u001b[1;32m   1070\u001b[0m                      \u001b[39m%\u001b[39m (n_chan, orig_picks))\n\u001b[1;32m   1071\u001b[0m picks \u001b[39m%\u001b[39m\u001b[39m=\u001b[39m n_chan  \u001b[39m# ensure positive\u001b[39;00m\n\u001b[1;32m   1072\u001b[0m \u001b[39mif\u001b[39;00m return_kind:\n",
      "\u001b[0;31mValueError\u001b[0m: All picks must be < n_channels (68), got 68"
     ]
    }
   ],
   "source": [
    "rest_br = create_from_mne_raw(raws[0],0,0,len(raws[0]),0,False)"
   ]
  },
  {
   "cell_type": "code",
   "execution_count": null,
   "metadata": {},
   "outputs": [
    {
     "data": {
      "text/plain": [
       "[<RawArray | 68 x 34048 (66.5 s), ~17.8 MB, data loaded>]"
      ]
     },
     "execution_count": 102,
     "metadata": {},
     "output_type": "execute_result"
    }
   ],
   "source": [
    "raws"
   ]
  },
  {
   "cell_type": "code",
   "execution_count": null,
   "metadata": {},
   "outputs": [],
   "source": []
  }
 ],
 "metadata": {
  "kernelspec": {
   "display_name": "Python 3.9.13 ('MI_pred')",
   "language": "python",
   "name": "python3"
  },
  "language_info": {
   "codemirror_mode": {
    "name": "ipython",
    "version": 3
   },
   "file_extension": ".py",
   "mimetype": "text/x-python",
   "name": "python",
   "nbconvert_exporter": "python",
   "pygments_lexer": "ipython3",
   "version": "3.9.13"
  },
  "orig_nbformat": 4,
  "vscode": {
   "interpreter": {
    "hash": "6629aad805afa7a6a59ced7c9bb143c65b3c10657ba34c3536df57a876399260"
   }
  }
 },
 "nbformat": 4,
 "nbformat_minor": 2
}
