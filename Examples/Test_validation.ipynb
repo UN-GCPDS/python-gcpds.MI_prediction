{
 "cells": [
  {
   "cell_type": "code",
   "execution_count": 1,
   "metadata": {},
   "outputs": [
    {
     "name": "stdout",
     "output_type": "stream",
     "text": [
      "Obtaining MI_prediction from git+https://github.com/UN-GCPDS/python-gcpds.MI_prediction.git#egg=MI_prediction\n",
      "  Updating ./src/mi-prediction clone\n",
      "  Running command git fetch -q --tags\n",
      "  Running command git reset --hard -q b8bdb239a44e2d12357e55353110a5ca8de7e696\n",
      "  Preparing metadata (setup.py) ... \u001b[?25ldone\n",
      "\u001b[?25hRequirement already satisfied: moabb in /Users/julian/miniforge3/envs/MI_pred/lib/python3.9/site-packages (from MI_prediction) (0.4.6)\n",
      "Requirement already satisfied: braindecode in /Users/julian/miniforge3/envs/MI_pred/lib/python3.9/site-packages (from MI_prediction) (0.6)\n",
      "Requirement already satisfied: mne in /Users/julian/miniforge3/envs/MI_pred/lib/python3.9/site-packages (from braindecode->MI_prediction) (1.0.3)\n",
      "Requirement already satisfied: scipy in /Users/julian/miniforge3/envs/MI_pred/lib/python3.9/site-packages (from braindecode->MI_prediction) (1.8.1)\n",
      "Requirement already satisfied: matplotlib in /Users/julian/miniforge3/envs/MI_pred/lib/python3.9/site-packages (from braindecode->MI_prediction) (3.5.2)\n",
      "Requirement already satisfied: skorch in /Users/julian/miniforge3/envs/MI_pred/lib/python3.9/site-packages (from braindecode->MI_prediction) (0.11.0)\n",
      "Requirement already satisfied: h5py in /Users/julian/miniforge3/envs/MI_pred/lib/python3.9/site-packages (from braindecode->MI_prediction) (3.7.0)\n",
      "Requirement already satisfied: numpy in /Users/julian/miniforge3/envs/MI_pred/lib/python3.9/site-packages (from braindecode->MI_prediction) (1.23.1)\n",
      "Requirement already satisfied: pandas in /Users/julian/miniforge3/envs/MI_pred/lib/python3.9/site-packages (from braindecode->MI_prediction) (1.4.3)\n",
      "Requirement already satisfied: scikit-learn<2.0,>=1.0 in /Users/julian/miniforge3/envs/MI_pred/lib/python3.9/site-packages (from moabb->MI_prediction) (1.1.1)\n",
      "Requirement already satisfied: PyYAML<6.0,>=5.0 in /Users/julian/miniforge3/envs/MI_pred/lib/python3.9/site-packages (from moabb->MI_prediction) (5.4.1)\n",
      "Requirement already satisfied: requests<3.0.0,>=2.15.1 in /Users/julian/miniforge3/envs/MI_pred/lib/python3.9/site-packages (from moabb->MI_prediction) (2.28.1)\n",
      "Requirement already satisfied: pooch<2.0,>=1.6 in /Users/julian/miniforge3/envs/MI_pred/lib/python3.9/site-packages (from moabb->MI_prediction) (1.6.0)\n",
      "Requirement already satisfied: seaborn>=0.9 in /Users/julian/miniforge3/envs/MI_pred/lib/python3.9/site-packages (from moabb->MI_prediction) (0.11.2)\n",
      "Requirement already satisfied: coverage<6.0,>=5.5 in /Users/julian/miniforge3/envs/MI_pred/lib/python3.9/site-packages (from moabb->MI_prediction) (5.5)\n",
      "Requirement already satisfied: pyriemann>=0.2.6 in /Users/julian/miniforge3/envs/MI_pred/lib/python3.9/site-packages (from moabb->MI_prediction) (0.3)\n",
      "Requirement already satisfied: tqdm<5.0,>=4.62 in /Users/julian/miniforge3/envs/MI_pred/lib/python3.9/site-packages (from moabb->MI_prediction) (4.64.0)\n",
      "Requirement already satisfied: pillow>=6.2.0 in /Users/julian/miniforge3/envs/MI_pred/lib/python3.9/site-packages (from matplotlib->braindecode->MI_prediction) (9.2.0)\n",
      "Requirement already satisfied: python-dateutil>=2.7 in /Users/julian/miniforge3/envs/MI_pred/lib/python3.9/site-packages (from matplotlib->braindecode->MI_prediction) (2.8.2)\n",
      "Requirement already satisfied: cycler>=0.10 in /Users/julian/miniforge3/envs/MI_pred/lib/python3.9/site-packages (from matplotlib->braindecode->MI_prediction) (0.11.0)\n",
      "Requirement already satisfied: kiwisolver>=1.0.1 in /Users/julian/miniforge3/envs/MI_pred/lib/python3.9/site-packages (from matplotlib->braindecode->MI_prediction) (1.4.4)\n",
      "Requirement already satisfied: fonttools>=4.22.0 in /Users/julian/miniforge3/envs/MI_pred/lib/python3.9/site-packages (from matplotlib->braindecode->MI_prediction) (4.34.4)\n",
      "Requirement already satisfied: pyparsing>=2.2.1 in /Users/julian/miniforge3/envs/MI_pred/lib/python3.9/site-packages (from matplotlib->braindecode->MI_prediction) (3.0.9)\n",
      "Requirement already satisfied: packaging>=20.0 in /Users/julian/miniforge3/envs/MI_pred/lib/python3.9/site-packages (from matplotlib->braindecode->MI_prediction) (21.3)\n",
      "Requirement already satisfied: decorator in /Users/julian/miniforge3/envs/MI_pred/lib/python3.9/site-packages (from mne->braindecode->MI_prediction) (5.1.1)\n",
      "Requirement already satisfied: jinja2 in /Users/julian/miniforge3/envs/MI_pred/lib/python3.9/site-packages (from mne->braindecode->MI_prediction) (3.1.2)\n",
      "Requirement already satisfied: pytz>=2020.1 in /Users/julian/miniforge3/envs/MI_pred/lib/python3.9/site-packages (from pandas->braindecode->MI_prediction) (2022.1)\n",
      "Requirement already satisfied: appdirs>=1.3.0 in /Users/julian/miniforge3/envs/MI_pred/lib/python3.9/site-packages (from pooch<2.0,>=1.6->moabb->MI_prediction) (1.4.4)\n",
      "Requirement already satisfied: joblib in /Users/julian/miniforge3/envs/MI_pred/lib/python3.9/site-packages (from pyriemann>=0.2.6->moabb->MI_prediction) (1.1.0)\n",
      "Requirement already satisfied: certifi>=2017.4.17 in /Users/julian/miniforge3/envs/MI_pred/lib/python3.9/site-packages (from requests<3.0.0,>=2.15.1->moabb->MI_prediction) (2022.6.15)\n",
      "Requirement already satisfied: urllib3<1.27,>=1.21.1 in /Users/julian/miniforge3/envs/MI_pred/lib/python3.9/site-packages (from requests<3.0.0,>=2.15.1->moabb->MI_prediction) (1.26.10)\n",
      "Requirement already satisfied: charset-normalizer<3,>=2 in /Users/julian/miniforge3/envs/MI_pred/lib/python3.9/site-packages (from requests<3.0.0,>=2.15.1->moabb->MI_prediction) (2.1.0)\n",
      "Requirement already satisfied: idna<4,>=2.5 in /Users/julian/miniforge3/envs/MI_pred/lib/python3.9/site-packages (from requests<3.0.0,>=2.15.1->moabb->MI_prediction) (3.3)\n",
      "Requirement already satisfied: threadpoolctl>=2.0.0 in /Users/julian/miniforge3/envs/MI_pred/lib/python3.9/site-packages (from scikit-learn<2.0,>=1.0->moabb->MI_prediction) (3.1.0)\n",
      "Requirement already satisfied: tabulate>=0.7.7 in /Users/julian/miniforge3/envs/MI_pred/lib/python3.9/site-packages (from skorch->braindecode->MI_prediction) (0.8.10)\n",
      "Requirement already satisfied: six>=1.5 in /Users/julian/miniforge3/envs/MI_pred/lib/python3.9/site-packages (from python-dateutil>=2.7->matplotlib->braindecode->MI_prediction) (1.16.0)\n",
      "Requirement already satisfied: MarkupSafe>=2.0 in /Users/julian/miniforge3/envs/MI_pred/lib/python3.9/site-packages (from jinja2->mne->braindecode->MI_prediction) (2.1.1)\n",
      "Installing collected packages: MI_prediction\n",
      "  Attempting uninstall: MI_prediction\n",
      "    Found existing installation: MI-prediction 0.1\n",
      "    Uninstalling MI-prediction-0.1:\n",
      "      Successfully uninstalled MI-prediction-0.1\n",
      "  Running setup.py develop for MI_prediction\n",
      "Successfully installed MI_prediction-0.1\n",
      "Note: you may need to restart the kernel to use updated packages.\n"
     ]
    }
   ],
   "source": [
    "%pip install -e git+https://github.com/UN-GCPDS/python-gcpds.MI_prediction.git#egg=MI_prediction"
   ]
  },
  {
   "cell_type": "code",
   "execution_count": 3,
   "metadata": {},
   "outputs": [],
   "source": [
    "from MI_prediction.Utils.Datasets import DataLoader, DataLoader_Rest, get_epochs, get_runs\n",
    "from MI_prediction.Datasets import Cho2017_Rest, BNCI2014001_Rest\n",
    "from MI_prediction.Utils.Preprocess import filterbank_preprocessor, filterbank\n",
    "from braindecode.preprocessing.preprocess import exponential_moving_standardize, preprocess, Preprocessor, scale\n",
    "\n",
    "import numpy as np\n",
    "import matplotlib.pyplot as plt\n",
    "\n",
    "from sklearn.pipeline import Pipeline\n",
    "from sklearn.discriminant_analysis import LinearDiscriminantAnalysis\n",
    "from sklearn.model_selection import train_test_split,StratifiedKFold,cross_val_score\n",
    "from mne.decoding import CSP\n",
    "from sklearn.preprocessing import StandardScaler\n",
    "from mne.preprocessing import compute_current_source_density\n",
    "\n",
    "import copy"
   ]
  },
  {
   "cell_type": "markdown",
   "metadata": {},
   "source": [
    "# Lawhern2018 sklearn"
   ]
  },
  {
   "cell_type": "markdown",
   "metadata": {},
   "source": [
    "## BCI2a"
   ]
  },
  {
   "cell_type": "markdown",
   "metadata": {},
   "source": [
    "### Load data"
   ]
  },
  {
   "cell_type": "code",
   "execution_count": 353,
   "metadata": {},
   "outputs": [
    {
     "name": "stdout",
     "output_type": "stream",
     "text": [
      "48 events found\n",
      "Event IDs: [1 2 3 4]\n",
      "48 events found\n",
      "Event IDs: [1 2 3 4]\n",
      "48 events found\n",
      "Event IDs: [1 2 3 4]\n",
      "48 events found\n",
      "Event IDs: [1 2 3 4]\n",
      "48 events found\n",
      "Event IDs: [1 2 3 4]\n",
      "48 events found\n",
      "Event IDs: [1 2 3 4]\n",
      "48 events found\n",
      "Event IDs: [1 2 3 4]\n",
      "48 events found\n",
      "Event IDs: [1 2 3 4]\n",
      "48 events found\n",
      "Event IDs: [1 2 3 4]\n",
      "48 events found\n",
      "Event IDs: [1 2 3 4]\n",
      "48 events found\n",
      "Event IDs: [1 2 3 4]\n",
      "48 events found\n",
      "Event IDs: [1 2 3 4]\n"
     ]
    }
   ],
   "source": [
    "dl = DataLoader(dataset_name=\"BNCI2014001\")\n",
    "dl.load_data(subject_ids=[3])"
   ]
  },
  {
   "cell_type": "code",
   "execution_count": 355,
   "metadata": {},
   "outputs": [],
   "source": [
    "def filterbank_preprocessor(freqs):\n",
    "    FB = {}\n",
    "    for freq in freqs:\n",
    "        print('band to filter: {} Hz'.format(freq))\n",
    "        FB[str(freq[0])+'_'+str(freq[1])] = Preprocessor('filter', l_freq=freq[0], h_freq=freq[1])\n",
    "    return FB\n"
   ]
  },
  {
   "cell_type": "code",
   "execution_count": 356,
   "metadata": {},
   "outputs": [
    {
     "name": "stdout",
     "output_type": "stream",
     "text": [
      "band to filter: (4.0, 38.0) Hz\n"
     ]
    }
   ],
   "source": [
    "fb = filterbank_preprocessor([(4.,38.)])"
   ]
  },
  {
   "cell_type": "code",
   "execution_count": 357,
   "metadata": {},
   "outputs": [
    {
     "data": {
      "text/plain": [
       "{'4.0_38.0': <braindecode.preprocessing.preprocess.Preprocessor at 0x2a49e4ee0>}"
      ]
     },
     "execution_count": 357,
     "metadata": {},
     "output_type": "execute_result"
    }
   ],
   "source": [
    "fb"
   ]
  },
  {
   "cell_type": "code",
   "execution_count": 358,
   "metadata": {},
   "outputs": [],
   "source": [
    "def filterbank(ds, preprocess = [], filters = [], standarization = [], channels_prep = []):\n",
    "    ds_filt = []\n",
    "    for i in filters.keys():\n",
    "        d_tmp = copy.deepcopy(ds)\n",
    "        preprocessors = preprocess + channels_prep + [filters[i]] + standarization\n",
    "        d_tmp.preprocess_data(preprocessors=preprocessors)\n",
    "        ds_filt.append(d_tmp)\n",
    "    return ds_filt"
   ]
  },
  {
   "cell_type": "code",
   "execution_count": 359,
   "metadata": {},
   "outputs": [],
   "source": [
    "preprocessors = [\n",
    "        Preprocessor('pick_types', eeg=True, meg=False, stim=False),  # Keep EEG sensors\n",
    "        Preprocessor(scale, factor=1e6, apply_on_array=True),  # Convert from V to uV\n",
    "        #Preprocessor('filter', l_freq=1., h_freq=None)  # Bandpass filter\n",
    "        ]\n",
    "\n",
    "Ch_prep = [\n",
    "        Preprocessor(compute_current_source_density,copy=False,apply_on_array=False)\n",
    "        ]"
   ]
  },
  {
   "cell_type": "code",
   "execution_count": 360,
   "metadata": {},
   "outputs": [
    {
     "data": {
      "text/plain": [
       "[<braindecode.preprocessing.preprocess.Preprocessor at 0x31091df10>]"
      ]
     },
     "execution_count": 360,
     "metadata": {},
     "output_type": "execute_result"
    }
   ],
   "source": [
    "Ch_prep"
   ]
  },
  {
   "cell_type": "code",
   "execution_count": 361,
   "metadata": {},
   "outputs": [
    {
     "name": "stdout",
     "output_type": "stream",
     "text": [
      "Filtering raw data in 1 contiguous segment\n",
      "Setting up band-pass filter from 4 - 38 Hz\n",
      "\n",
      "FIR filter parameters\n",
      "---------------------\n",
      "Designing a one-pass, zero-phase, non-causal bandpass filter:\n",
      "- Windowed time-domain design (firwin) method\n",
      "- Hamming window with 0.0194 passband ripple and 53 dB stopband attenuation\n",
      "- Lower passband edge: 4.00\n",
      "- Lower transition bandwidth: 2.00 Hz (-6 dB cutoff frequency: 3.00 Hz)\n",
      "- Upper passband edge: 38.00 Hz\n",
      "- Upper transition bandwidth: 9.50 Hz (-6 dB cutoff frequency: 42.75 Hz)\n",
      "- Filter length: 413 samples (1.652 sec)\n",
      "\n",
      "Filtering raw data in 1 contiguous segment\n",
      "Setting up band-pass filter from 4 - 38 Hz\n",
      "\n",
      "FIR filter parameters\n",
      "---------------------\n",
      "Designing a one-pass, zero-phase, non-causal bandpass filter:\n",
      "- Windowed time-domain design (firwin) method\n",
      "- Hamming window with 0.0194 passband ripple and 53 dB stopband attenuation\n",
      "- Lower passband edge: 4.00\n",
      "- Lower transition bandwidth: 2.00 Hz (-6 dB cutoff frequency: 3.00 Hz)\n",
      "- Upper passband edge: 38.00 Hz\n",
      "- Upper transition bandwidth: 9.50 Hz (-6 dB cutoff frequency: 42.75 Hz)\n",
      "- Filter length: 413 samples (1.652 sec)\n",
      "\n",
      "Filtering raw data in 1 contiguous segment\n",
      "Setting up band-pass filter from 4 - 38 Hz\n",
      "\n",
      "FIR filter parameters\n",
      "---------------------\n",
      "Designing a one-pass, zero-phase, non-causal bandpass filter:\n",
      "- Windowed time-domain design (firwin) method\n",
      "- Hamming window with 0.0194 passband ripple and 53 dB stopband attenuation\n",
      "- Lower passband edge: 4.00\n",
      "- Lower transition bandwidth: 2.00 Hz (-6 dB cutoff frequency: 3.00 Hz)\n",
      "- Upper passband edge: 38.00 Hz\n",
      "- Upper transition bandwidth: 9.50 Hz (-6 dB cutoff frequency: 42.75 Hz)\n",
      "- Filter length: 413 samples (1.652 sec)\n",
      "\n"
     ]
    },
    {
     "name": "stderr",
     "output_type": "stream",
     "text": [
      "/Users/julian/miniforge3/envs/MI_pred/lib/python3.9/site-packages/sklearn/utils/deprecation.py:87: FutureWarning: Function scale is deprecated; will be removed in 0.7.0. Use numpy.multiply instead.\n",
      "  warnings.warn(msg, category=FutureWarning)\n"
     ]
    },
    {
     "name": "stdout",
     "output_type": "stream",
     "text": [
      "Filtering raw data in 1 contiguous segment\n",
      "Setting up band-pass filter from 4 - 38 Hz\n",
      "\n",
      "FIR filter parameters\n",
      "---------------------\n",
      "Designing a one-pass, zero-phase, non-causal bandpass filter:\n",
      "- Windowed time-domain design (firwin) method\n",
      "- Hamming window with 0.0194 passband ripple and 53 dB stopband attenuation\n",
      "- Lower passband edge: 4.00\n",
      "- Lower transition bandwidth: 2.00 Hz (-6 dB cutoff frequency: 3.00 Hz)\n",
      "- Upper passband edge: 38.00 Hz\n",
      "- Upper transition bandwidth: 9.50 Hz (-6 dB cutoff frequency: 42.75 Hz)\n",
      "- Filter length: 413 samples (1.652 sec)\n",
      "\n",
      "Filtering raw data in 1 contiguous segment\n",
      "Setting up band-pass filter from 4 - 38 Hz\n",
      "\n",
      "FIR filter parameters\n",
      "---------------------\n",
      "Designing a one-pass, zero-phase, non-causal bandpass filter:\n",
      "- Windowed time-domain design (firwin) method\n",
      "- Hamming window with 0.0194 passband ripple and 53 dB stopband attenuation\n",
      "- Lower passband edge: 4.00\n",
      "- Lower transition bandwidth: 2.00 Hz (-6 dB cutoff frequency: 3.00 Hz)\n",
      "- Upper passband edge: 38.00 Hz\n",
      "- Upper transition bandwidth: 9.50 Hz (-6 dB cutoff frequency: 42.75 Hz)\n",
      "- Filter length: 413 samples (1.652 sec)\n",
      "\n",
      "Filtering raw data in 1 contiguous segment\n",
      "Setting up band-pass filter from 4 - 38 Hz\n",
      "\n",
      "FIR filter parameters\n",
      "---------------------\n",
      "Designing a one-pass, zero-phase, non-causal bandpass filter:\n",
      "- Windowed time-domain design (firwin) method\n",
      "- Hamming window with 0.0194 passband ripple and 53 dB stopband attenuation\n",
      "- Lower passband edge: 4.00\n",
      "- Lower transition bandwidth: 2.00 Hz (-6 dB cutoff frequency: 3.00 Hz)\n",
      "- Upper passband edge: 38.00 Hz\n",
      "- Upper transition bandwidth: 9.50 Hz (-6 dB cutoff frequency: 42.75 Hz)\n",
      "- Filter length: 413 samples (1.652 sec)\n",
      "\n",
      "Filtering raw data in 1 contiguous segment\n",
      "Setting up band-pass filter from 4 - 38 Hz\n",
      "\n",
      "FIR filter parameters\n",
      "---------------------\n",
      "Designing a one-pass, zero-phase, non-causal bandpass filter:\n",
      "- Windowed time-domain design (firwin) method\n",
      "- Hamming window with 0.0194 passband ripple and 53 dB stopband attenuation\n",
      "- Lower passband edge: 4.00\n",
      "- Lower transition bandwidth: 2.00 Hz (-6 dB cutoff frequency: 3.00 Hz)\n",
      "- Upper passband edge: 38.00 Hz\n",
      "- Upper transition bandwidth: 9.50 Hz (-6 dB cutoff frequency: 42.75 Hz)\n",
      "- Filter length: 413 samples (1.652 sec)\n",
      "\n",
      "Filtering raw data in 1 contiguous segment\n",
      "Setting up band-pass filter from 4 - 38 Hz\n",
      "\n",
      "FIR filter parameters\n",
      "---------------------\n",
      "Designing a one-pass, zero-phase, non-causal bandpass filter:\n",
      "- Windowed time-domain design (firwin) method\n",
      "- Hamming window with 0.0194 passband ripple and 53 dB stopband attenuation\n",
      "- Lower passband edge: 4.00\n",
      "- Lower transition bandwidth: 2.00 Hz (-6 dB cutoff frequency: 3.00 Hz)\n",
      "- Upper passband edge: 38.00 Hz\n",
      "- Upper transition bandwidth: 9.50 Hz (-6 dB cutoff frequency: 42.75 Hz)\n",
      "- Filter length: 413 samples (1.652 sec)\n",
      "\n",
      "Filtering raw data in 1 contiguous segment\n",
      "Setting up band-pass filter from 4 - 38 Hz\n",
      "\n",
      "FIR filter parameters\n",
      "---------------------\n",
      "Designing a one-pass, zero-phase, non-causal bandpass filter:\n",
      "- Windowed time-domain design (firwin) method\n",
      "- Hamming window with 0.0194 passband ripple and 53 dB stopband attenuation\n",
      "- Lower passband edge: 4.00\n",
      "- Lower transition bandwidth: 2.00 Hz (-6 dB cutoff frequency: 3.00 Hz)\n",
      "- Upper passband edge: 38.00 Hz\n",
      "- Upper transition bandwidth: 9.50 Hz (-6 dB cutoff frequency: 42.75 Hz)\n",
      "- Filter length: 413 samples (1.652 sec)\n",
      "\n",
      "Filtering raw data in 1 contiguous segment\n",
      "Setting up band-pass filter from 4 - 38 Hz\n",
      "\n",
      "FIR filter parameters\n",
      "---------------------\n",
      "Designing a one-pass, zero-phase, non-causal bandpass filter:\n",
      "- Windowed time-domain design (firwin) method\n",
      "- Hamming window with 0.0194 passband ripple and 53 dB stopband attenuation\n",
      "- Lower passband edge: 4.00\n",
      "- Lower transition bandwidth: 2.00 Hz (-6 dB cutoff frequency: 3.00 Hz)\n",
      "- Upper passband edge: 38.00 Hz\n",
      "- Upper transition bandwidth: 9.50 Hz (-6 dB cutoff frequency: 42.75 Hz)\n",
      "- Filter length: 413 samples (1.652 sec)\n",
      "\n",
      "Filtering raw data in 1 contiguous segment\n",
      "Setting up band-pass filter from 4 - 38 Hz\n",
      "\n",
      "FIR filter parameters\n",
      "---------------------\n",
      "Designing a one-pass, zero-phase, non-causal bandpass filter:\n",
      "- Windowed time-domain design (firwin) method\n",
      "- Hamming window with 0.0194 passband ripple and 53 dB stopband attenuation\n",
      "- Lower passband edge: 4.00\n",
      "- Lower transition bandwidth: 2.00 Hz (-6 dB cutoff frequency: 3.00 Hz)\n",
      "- Upper passband edge: 38.00 Hz\n",
      "- Upper transition bandwidth: 9.50 Hz (-6 dB cutoff frequency: 42.75 Hz)\n",
      "- Filter length: 413 samples (1.652 sec)\n",
      "\n",
      "Filtering raw data in 1 contiguous segment\n",
      "Setting up band-pass filter from 4 - 38 Hz\n",
      "\n",
      "FIR filter parameters\n",
      "---------------------\n",
      "Designing a one-pass, zero-phase, non-causal bandpass filter:\n",
      "- Windowed time-domain design (firwin) method\n",
      "- Hamming window with 0.0194 passband ripple and 53 dB stopband attenuation\n",
      "- Lower passband edge: 4.00\n",
      "- Lower transition bandwidth: 2.00 Hz (-6 dB cutoff frequency: 3.00 Hz)\n",
      "- Upper passband edge: 38.00 Hz\n",
      "- Upper transition bandwidth: 9.50 Hz (-6 dB cutoff frequency: 42.75 Hz)\n",
      "- Filter length: 413 samples (1.652 sec)\n",
      "\n"
     ]
    }
   ],
   "source": [
    "ds_f = filterbank(dl, preprocess=preprocessors, filters=fb, channels_prep=[])"
   ]
  },
  {
   "cell_type": "code",
   "execution_count": 362,
   "metadata": {},
   "outputs": [
    {
     "data": {
      "text/plain": [
       "[<MI_prediction.Utils.Datasets.DataLoader at 0x2acdf9dc0>]"
      ]
     },
     "execution_count": 362,
     "metadata": {},
     "output_type": "execute_result"
    }
   ],
   "source": [
    "ds_f"
   ]
  },
  {
   "cell_type": "code",
   "execution_count": 363,
   "metadata": {},
   "outputs": [
    {
     "name": "stdout",
     "output_type": "stream",
     "text": [
      "Used Annotations descriptions: ['feet', 'left_hand', 'right_hand', 'tongue']\n",
      "Adding metadata with 4 columns\n",
      "48 matching events found\n",
      "No baseline correction applied\n",
      "0 projection items activated\n",
      "Using data from preloaded Raw for 48 events and 1000 original time points ...\n",
      "0 bad epochs dropped\n",
      "Used Annotations descriptions: ['feet', 'left_hand', 'right_hand', 'tongue']\n",
      "Adding metadata with 4 columns\n",
      "48 matching events found\n",
      "No baseline correction applied\n",
      "0 projection items activated\n",
      "Using data from preloaded Raw for 48 events and 1000 original time points ...\n",
      "0 bad epochs dropped\n",
      "Used Annotations descriptions: ['feet', 'left_hand', 'right_hand', 'tongue']\n",
      "Adding metadata with 4 columns\n",
      "48 matching events found\n",
      "No baseline correction applied\n",
      "0 projection items activated\n",
      "Using data from preloaded Raw for 48 events and 1000 original time points ...\n",
      "0 bad epochs dropped\n",
      "Used Annotations descriptions: ['feet', 'left_hand', 'right_hand', 'tongue']\n",
      "Adding metadata with 4 columns\n",
      "48 matching events found\n",
      "No baseline correction applied\n",
      "0 projection items activated\n",
      "Using data from preloaded Raw for 48 events and 1000 original time points ...\n",
      "0 bad epochs dropped\n",
      "Used Annotations descriptions: ['feet', 'left_hand', 'right_hand', 'tongue']\n",
      "Adding metadata with 4 columns\n",
      "48 matching events found\n",
      "No baseline correction applied\n",
      "0 projection items activated\n",
      "Using data from preloaded Raw for 48 events and 1000 original time points ...\n",
      "0 bad epochs dropped\n",
      "Used Annotations descriptions: ['feet', 'left_hand', 'right_hand', 'tongue']\n",
      "Adding metadata with 4 columns\n",
      "48 matching events found\n",
      "No baseline correction applied\n",
      "0 projection items activated\n",
      "Using data from preloaded Raw for 48 events and 1000 original time points ...\n",
      "0 bad epochs dropped\n",
      "Used Annotations descriptions: ['feet', 'left_hand', 'right_hand', 'tongue']\n",
      "Adding metadata with 4 columns\n",
      "48 matching events found\n",
      "No baseline correction applied\n",
      "0 projection items activated\n",
      "Using data from preloaded Raw for 48 events and 1000 original time points ...\n",
      "0 bad epochs dropped\n",
      "Used Annotations descriptions: ['feet', 'left_hand', 'right_hand', 'tongue']\n",
      "Adding metadata with 4 columns\n",
      "48 matching events found\n",
      "No baseline correction applied\n",
      "0 projection items activated\n",
      "Using data from preloaded Raw for 48 events and 1000 original time points ...\n",
      "0 bad epochs dropped\n",
      "Used Annotations descriptions: ['feet', 'left_hand', 'right_hand', 'tongue']\n",
      "Adding metadata with 4 columns\n",
      "48 matching events found\n",
      "No baseline correction applied\n",
      "0 projection items activated\n",
      "Using data from preloaded Raw for 48 events and 1000 original time points ...\n",
      "0 bad epochs dropped\n",
      "Used Annotations descriptions: ['feet', 'left_hand', 'right_hand', 'tongue']\n",
      "Adding metadata with 4 columns\n",
      "48 matching events found\n",
      "No baseline correction applied\n",
      "0 projection items activated\n",
      "Using data from preloaded Raw for 48 events and 1000 original time points ...\n",
      "0 bad epochs dropped\n",
      "Used Annotations descriptions: ['feet', 'left_hand', 'right_hand', 'tongue']\n",
      "Adding metadata with 4 columns\n",
      "48 matching events found\n",
      "No baseline correction applied\n",
      "0 projection items activated\n",
      "Using data from preloaded Raw for 48 events and 1000 original time points ...\n",
      "0 bad epochs dropped\n",
      "Used Annotations descriptions: ['feet', 'left_hand', 'right_hand', 'tongue']\n",
      "Adding metadata with 4 columns\n",
      "48 matching events found\n",
      "No baseline correction applied\n",
      "0 projection items activated\n",
      "Using data from preloaded Raw for 48 events and 1000 original time points ...\n",
      "0 bad epochs dropped\n"
     ]
    }
   ],
   "source": [
    "trials = [tr.get_trials(start_offset=[0], end_offset=[0]) for tr in ds_f]"
   ]
  },
  {
   "cell_type": "code",
   "execution_count": 364,
   "metadata": {},
   "outputs": [
    {
     "data": {
      "text/plain": [
       "[{'win_0': <braindecode.datasets.base.BaseConcatDataset at 0x2acdf93d0>}]"
      ]
     },
     "execution_count": 364,
     "metadata": {},
     "output_type": "execute_result"
    }
   ],
   "source": [
    "trials"
   ]
  },
  {
   "cell_type": "code",
   "execution_count": 365,
   "metadata": {},
   "outputs": [],
   "source": [
    "epochs = [get_epochs(epoch['win_0'].split('session')['session_T']) for epoch in trials]"
   ]
  },
  {
   "cell_type": "code",
   "execution_count": 366,
   "metadata": {},
   "outputs": [],
   "source": [
    "X = np.concatenate([np.expand_dims(trial[0],axis=3) for trial in epochs], axis=-1,dtype=np.float64)\n",
    "y = epochs[0][1]"
   ]
  },
  {
   "cell_type": "code",
   "execution_count": 367,
   "metadata": {},
   "outputs": [
    {
     "data": {
      "text/plain": [
       "array([-3.04061174])"
      ]
     },
     "execution_count": 367,
     "metadata": {},
     "output_type": "execute_result"
    }
   ],
   "source": [
    "X[0,0,1]"
   ]
  },
  {
   "cell_type": "code",
   "execution_count": 368,
   "metadata": {},
   "outputs": [],
   "source": [
    "from sklearn.base import BaseEstimator, TransformerMixin"
   ]
  },
  {
   "cell_type": "code",
   "execution_count": 369,
   "metadata": {},
   "outputs": [],
   "source": [
    "class FBCSP(TransformerMixin,BaseEstimator):\n",
    "    def __init__(self, n_components=8, reg=None, log=True, norm_trace=False):\n",
    "        self.n_components = n_components\n",
    "        self.reg = reg\n",
    "        self.log = log\n",
    "        self.norm_trace = norm_trace\n",
    "    \n",
    "    def fit(self, X, y):\n",
    "        self.csp_mdl = CSP(n_components=self.n_components, reg=self.reg, log=self.log, norm_trace=self.norm_trace)\n",
    "        self.mdls = [self.csp_mdl.fit(X[:,:,:,i], y) for i in range(X.shape[-1])]\n",
    "        return self\n",
    "    \n",
    "    def transform(self, X):\n",
    "        return np.concatenate([self.mdls[i].transform(X[:,:,:,i]) for i in range(len(self.mdls))],axis=-1)\n",
    "    \n"
   ]
  },
  {
   "cell_type": "code",
   "execution_count": 370,
   "metadata": {},
   "outputs": [],
   "source": [
    "idx_l = (y==0)+(y==1)\n",
    "X = X[idx_l,:,:,:]\n",
    "y = y[idx_l]"
   ]
  },
  {
   "cell_type": "code",
   "execution_count": 371,
   "metadata": {},
   "outputs": [],
   "source": [
    "fbcsp = FBCSP(n_components=8,norm_trace=True, reg='empirical')"
   ]
  },
  {
   "cell_type": "code",
   "execution_count": 372,
   "metadata": {},
   "outputs": [
    {
     "name": "stdout",
     "output_type": "stream",
     "text": [
      "Computing rank from data with rank=None\n",
      "    Using tolerance 52 (2.2e-16 eps * 22 dim * 1.1e+16  max singular value)\n",
      "    Estimated rank (mag): 22\n",
      "    MAG: rank 22 computed from 22 data channels with 0 projectors\n",
      "Reducing data rank from 22 -> 22\n",
      "Estimating covariance using EMPIRICAL\n",
      "Done.\n",
      "Computing rank from data with rank=None\n",
      "    Using tolerance 46 (2.2e-16 eps * 22 dim * 9.4e+15  max singular value)\n",
      "    Estimated rank (mag): 22\n",
      "    MAG: rank 22 computed from 22 data channels with 0 projectors\n",
      "Reducing data rank from 22 -> 22\n",
      "Estimating covariance using EMPIRICAL\n",
      "Done.\n"
     ]
    },
    {
     "data": {
      "text/html": [
       "<style>#sk-container-id-16 {color: black;background-color: white;}#sk-container-id-16 pre{padding: 0;}#sk-container-id-16 div.sk-toggleable {background-color: white;}#sk-container-id-16 label.sk-toggleable__label {cursor: pointer;display: block;width: 100%;margin-bottom: 0;padding: 0.3em;box-sizing: border-box;text-align: center;}#sk-container-id-16 label.sk-toggleable__label-arrow:before {content: \"▸\";float: left;margin-right: 0.25em;color: #696969;}#sk-container-id-16 label.sk-toggleable__label-arrow:hover:before {color: black;}#sk-container-id-16 div.sk-estimator:hover label.sk-toggleable__label-arrow:before {color: black;}#sk-container-id-16 div.sk-toggleable__content {max-height: 0;max-width: 0;overflow: hidden;text-align: left;background-color: #f0f8ff;}#sk-container-id-16 div.sk-toggleable__content pre {margin: 0.2em;color: black;border-radius: 0.25em;background-color: #f0f8ff;}#sk-container-id-16 input.sk-toggleable__control:checked~div.sk-toggleable__content {max-height: 200px;max-width: 100%;overflow: auto;}#sk-container-id-16 input.sk-toggleable__control:checked~label.sk-toggleable__label-arrow:before {content: \"▾\";}#sk-container-id-16 div.sk-estimator input.sk-toggleable__control:checked~label.sk-toggleable__label {background-color: #d4ebff;}#sk-container-id-16 div.sk-label input.sk-toggleable__control:checked~label.sk-toggleable__label {background-color: #d4ebff;}#sk-container-id-16 input.sk-hidden--visually {border: 0;clip: rect(1px 1px 1px 1px);clip: rect(1px, 1px, 1px, 1px);height: 1px;margin: -1px;overflow: hidden;padding: 0;position: absolute;width: 1px;}#sk-container-id-16 div.sk-estimator {font-family: monospace;background-color: #f0f8ff;border: 1px dotted black;border-radius: 0.25em;box-sizing: border-box;margin-bottom: 0.5em;}#sk-container-id-16 div.sk-estimator:hover {background-color: #d4ebff;}#sk-container-id-16 div.sk-parallel-item::after {content: \"\";width: 100%;border-bottom: 1px solid gray;flex-grow: 1;}#sk-container-id-16 div.sk-label:hover label.sk-toggleable__label {background-color: #d4ebff;}#sk-container-id-16 div.sk-serial::before {content: \"\";position: absolute;border-left: 1px solid gray;box-sizing: border-box;top: 0;bottom: 0;left: 50%;z-index: 0;}#sk-container-id-16 div.sk-serial {display: flex;flex-direction: column;align-items: center;background-color: white;padding-right: 0.2em;padding-left: 0.2em;position: relative;}#sk-container-id-16 div.sk-item {position: relative;z-index: 1;}#sk-container-id-16 div.sk-parallel {display: flex;align-items: stretch;justify-content: center;background-color: white;position: relative;}#sk-container-id-16 div.sk-item::before, #sk-container-id-16 div.sk-parallel-item::before {content: \"\";position: absolute;border-left: 1px solid gray;box-sizing: border-box;top: 0;bottom: 0;left: 50%;z-index: -1;}#sk-container-id-16 div.sk-parallel-item {display: flex;flex-direction: column;z-index: 1;position: relative;background-color: white;}#sk-container-id-16 div.sk-parallel-item:first-child::after {align-self: flex-end;width: 50%;}#sk-container-id-16 div.sk-parallel-item:last-child::after {align-self: flex-start;width: 50%;}#sk-container-id-16 div.sk-parallel-item:only-child::after {width: 0;}#sk-container-id-16 div.sk-dashed-wrapped {border: 1px dashed gray;margin: 0 0.4em 0.5em 0.4em;box-sizing: border-box;padding-bottom: 0.4em;background-color: white;}#sk-container-id-16 div.sk-label label {font-family: monospace;font-weight: bold;display: inline-block;line-height: 1.2em;}#sk-container-id-16 div.sk-label-container {text-align: center;}#sk-container-id-16 div.sk-container {/* jupyter's `normalize.less` sets `[hidden] { display: none; }` but bootstrap.min.css set `[hidden] { display: none !important; }` so we also need the `!important` here to be able to override the default hidden behavior on the sphinx rendered scikit-learn.org. See: https://github.com/scikit-learn/scikit-learn/issues/21755 */display: inline-block !important;position: relative;}#sk-container-id-16 div.sk-text-repr-fallback {display: none;}</style><div id=\"sk-container-id-16\" class=\"sk-top-container\"><div class=\"sk-text-repr-fallback\"><pre>FBCSP(norm_trace=True, reg=&#x27;empirical&#x27;)</pre><b>In a Jupyter environment, please rerun this cell to show the HTML representation or trust the notebook. <br />On GitHub, the HTML representation is unable to render, please try loading this page with nbviewer.org.</b></div><div class=\"sk-container\" hidden><div class=\"sk-item\"><div class=\"sk-estimator sk-toggleable\"><input class=\"sk-toggleable__control sk-hidden--visually\" id=\"sk-estimator-id-25\" type=\"checkbox\" checked><label for=\"sk-estimator-id-25\" class=\"sk-toggleable__label sk-toggleable__label-arrow\">FBCSP</label><div class=\"sk-toggleable__content\"><pre>FBCSP(norm_trace=True, reg=&#x27;empirical&#x27;)</pre></div></div></div></div></div>"
      ],
      "text/plain": [
       "FBCSP(norm_trace=True, reg='empirical')"
      ]
     },
     "execution_count": 372,
     "metadata": {},
     "output_type": "execute_result"
    }
   ],
   "source": [
    "fbcsp.fit(X, y)"
   ]
  },
  {
   "cell_type": "code",
   "execution_count": 373,
   "metadata": {},
   "outputs": [
    {
     "data": {
      "text/plain": [
       "array([[5.9159225 , 5.70788447, 6.69524944, ..., 6.52846144, 6.34967594,\n",
       "        6.42902798],\n",
       "       [5.79297918, 6.23689518, 6.6830306 , ..., 6.83911074, 6.54311831,\n",
       "        6.63190098],\n",
       "       [5.87515531, 6.70162768, 6.63076426, ..., 6.68731102, 6.53610182,\n",
       "        6.60167974],\n",
       "       ...,\n",
       "       [7.26605938, 6.5153053 , 6.61860488, ..., 6.92618248, 6.88718037,\n",
       "        7.0251057 ],\n",
       "       [6.62697308, 7.420823  , 6.96165135, ..., 6.85600663, 7.10572645,\n",
       "        7.02750737],\n",
       "       [6.9138421 , 6.49293496, 6.72358172, ..., 6.82053775, 6.94676154,\n",
       "        6.803494  ]])"
      ]
     },
     "execution_count": 373,
     "metadata": {},
     "output_type": "execute_result"
    }
   ],
   "source": [
    "fbcsp.transform(X)"
   ]
  },
  {
   "cell_type": "markdown",
   "metadata": {},
   "source": [
    "### CSP + LDA"
   ]
  },
  {
   "cell_type": "code",
   "execution_count": 394,
   "metadata": {},
   "outputs": [
    {
     "name": "stderr",
     "output_type": "stream",
     "text": [
      "[Parallel(n_jobs=-1)]: Using backend LokyBackend with 8 concurrent workers.\n"
     ]
    },
    {
     "name": "stdout",
     "output_type": "stream",
     "text": [
      "Computing rank from data with rank=None\n",
      "Computing rank from data with rank=None\n",
      "Computing rank from data with rank=None\n",
      "    Using tolerance 43 (2.2e-16 eps * 22 dim * 8.8e+15  max singular value)\n",
      "    Estimated rank (mag): 22\n",
      "    MAG: rank 22 computed from 22 data channels with 0 projectors\n",
      "    Using tolerance 45 (2.2e-16 eps * 22 dim * 9.3e+15  max singular value)\n",
      "    Estimated rank (mag): 22\n",
      "    MAG: rank 22 computed from 22 data channels with 0 projectors\n",
      "    Using tolerance 45 (2.2e-16 eps * 22 dim * 9.1e+15  max singular value)\n",
      "Reducing data rank from 22 -> 22\n",
      "    Estimated rank (mag): 22\n",
      "    MAG: rank 22 computed from 22 data channels with 0 projectors\n",
      "Estimating covariance using EMPIRICAL\n",
      "Reducing data rank from 22 -> 22\n",
      "Estimating covariance using EMPIRICAL\n",
      "Done.\n",
      "Done.\n",
      "Reducing data rank from 22 -> 22\n",
      "Estimating covariance using EMPIRICAL\n",
      "Done.\n",
      "Computing rank from data with rank=None\n",
      "Computing rank from data with rank=None\n",
      "Computing rank from data with rank=None\n",
      "Computing rank from data with rank=None\n",
      "    Using tolerance 37 (2.2e-16 eps * 22 dim * 7.6e+15  max singular value)\n",
      "    Estimated rank (mag): 22\n",
      "    MAG: rank 22 computed from 22 data channels with 0 projectors\n",
      "    Using tolerance 40 (2.2e-16 eps * 22 dim * 8.1e+15  max singular value)\n",
      "    Estimated rank (mag): 22\n",
      "    MAG: rank 22 computed from 22 data channels with 0 projectors\n",
      "Reducing data rank from 22 -> 22\n",
      "Estimating covariance using EMPIRICAL\n",
      "    Using tolerance 41 (2.2e-16 eps * 22 dim * 8.4e+15  max singular value)\n",
      "Done.\n",
      "Reducing data rank from 22 -> 22\n",
      "    Estimated rank (mag): 22\n",
      "    MAG: rank 22 computed from 22 data channels with 0 projectors\n",
      "Estimating covariance using EMPIRICAL\n",
      "Done.\n",
      "Reducing data rank from 22 -> 22\n",
      "Estimating covariance using EMPIRICAL\n",
      "Done.\n",
      "    Using tolerance 46 (2.2e-16 eps * 22 dim * 9.4e+15  max singular value)\n",
      "    Estimated rank (mag): 22\n",
      "    MAG: rank 22 computed from 22 data channels with 0 projectors\n",
      "Reducing data rank from 22 -> 22\n",
      "Estimating covariance using EMPIRICAL\n",
      "Done.\n",
      "Computing rank from data with rank=None\n",
      "    Using tolerance 41 (2.2e-16 eps * 22 dim * 8.3e+15  max singular value)\n",
      "    Estimated rank (mag): 22\n",
      "    MAG: rank 22 computed from 22 data channels with 0 projectors\n",
      "Reducing data rank from 22 -> 22\n",
      "Estimating covariance using EMPIRICAL\n",
      "Done.\n"
     ]
    },
    {
     "name": "stderr",
     "output_type": "stream",
     "text": [
      "[Parallel(n_jobs=-1)]: Done   4 out of   4 | elapsed:    0.5s remaining:    0.0s\n",
      "[Parallel(n_jobs=-1)]: Done   4 out of   4 | elapsed:    0.5s finished\n"
     ]
    }
   ],
   "source": [
    "preds = []\n",
    "y_true = []\n",
    "acc = []\n",
    "c = 0\n",
    "seed = 1234\n",
    "\n",
    "skf = StratifiedKFold(n_splits=4)\n",
    "\n",
    "lda = LinearDiscriminantAnalysis()\n",
    "#csp = CSP(n_components=8, reg=None, log=True, norm_trace=False)\n",
    "fbcsp = FBCSP(n_components=8,norm_trace=False)\n",
    "scaler = StandardScaler()\n",
    "clf = Pipeline([('CSP', fbcsp),('Scaler',scaler), ('LDA', lda)])\n",
    "\n",
    "scores = cross_val_score(clf, X, y, cv=skf, n_jobs=-1,verbose=1)"
   ]
  },
  {
   "cell_type": "code",
   "execution_count": 395,
   "metadata": {},
   "outputs": [
    {
     "data": {
      "text/plain": [
       "array([1.        , 0.97222222, 0.91666667, 0.88888889])"
      ]
     },
     "execution_count": 395,
     "metadata": {},
     "output_type": "execute_result"
    }
   ],
   "source": [
    "scores"
   ]
  },
  {
   "cell_type": "code",
   "execution_count": 396,
   "metadata": {},
   "outputs": [
    {
     "data": {
      "text/plain": [
       "0.9444444444444444"
      ]
     },
     "execution_count": 396,
     "metadata": {},
     "output_type": "execute_result"
    }
   ],
   "source": [
    "np.mean(scores)"
   ]
  },
  {
   "cell_type": "code",
   "execution_count": null,
   "metadata": {},
   "outputs": [],
   "source": []
  },
  {
   "cell_type": "code",
   "execution_count": null,
   "metadata": {},
   "outputs": [],
   "source": []
  }
 ],
 "metadata": {
  "kernelspec": {
   "display_name": "Python 3.9.13 ('MI_pred')",
   "language": "python",
   "name": "python3"
  },
  "language_info": {
   "codemirror_mode": {
    "name": "ipython",
    "version": 3
   },
   "file_extension": ".py",
   "mimetype": "text/x-python",
   "name": "python",
   "nbconvert_exporter": "python",
   "pygments_lexer": "ipython3",
   "version": "3.9.13"
  },
  "orig_nbformat": 4,
  "vscode": {
   "interpreter": {
    "hash": "6629aad805afa7a6a59ced7c9bb143c65b3c10657ba34c3536df57a876399260"
   }
  }
 },
 "nbformat": 4,
 "nbformat_minor": 2
}
